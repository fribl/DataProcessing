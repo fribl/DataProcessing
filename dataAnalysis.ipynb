{
 "cells": [
  {
   "cell_type": "code",
   "execution_count": 7,
   "metadata": {},
   "outputs": [
    {
     "name": "stdout",
     "output_type": "stream",
     "text": [
      "            id  user_id                 time                     event  \\\n",
      "0      1084074     3562  2022-04-17 14:09:43  UD - USER DASHBOARD OPEN   \n",
      "1      1084075     3562  2022-04-17 14:16:06              OPEN ARTICLE   \n",
      "2      1084076     3562  2022-04-17 14:16:14            TRANSLATE TEXT   \n",
      "3      1084077     3562  2022-04-17 14:16:38            TRANSLATE TEXT   \n",
      "4      1084078     3562  2022-04-17 14:16:41            TRANSLATE TEXT   \n",
      "...        ...      ...                  ...                       ...   \n",
      "10480  1131481     3703  2022-06-01 13:59:03            TRANSLATE TEXT   \n",
      "10481  1131482     3703  2022-06-01 13:59:06            TRANSLATE TEXT   \n",
      "10482  1131483     3703  2022-06-01 13:59:07            TRANSLATE TEXT   \n",
      "10483  1131484     3703  2022-06-01 13:59:09            TRANSLATE TEXT   \n",
      "10484  1131485     3703  2022-06-01 13:59:42            ARTICLE CLOSED   \n",
      "\n",
      "                   value  article_id extra_data  has_article_id  \n",
      "0                    NaN         NaN        NaN               0  \n",
      "1                    NaN   1897321.0  EXTENSION               1  \n",
      "2                    Det   1897321.0  EXTENSION               1  \n",
      "3                dygtigt   1897321.0  EXTENSION               1  \n",
      "4                     er   1897321.0  EXTENSION               1  \n",
      "...                  ...         ...        ...             ...  \n",
      "10480  flyttet hjemmefra   1961095.0  EXTENSION               1  \n",
      "10481            flyttet   1961095.0  EXTENSION               1  \n",
      "10482   Vindstad flyttet   1961095.0  EXTENSION               1  \n",
      "10483            flyttet   1961095.0  EXTENSION               1  \n",
      "10484                NaN   1961095.0  EXTENSION               1  \n",
      "\n",
      "[10485 rows x 8 columns]\n"
     ]
    }
   ],
   "source": [
    "import pandas as pd\n",
    "#read_csv takes a csv file with user activity data for the two weeks\n",
    "activityData = pd.read_csv('UAD 28-8.csv')\n",
    "print(activityData)\n"
   ]
  },
  {
   "cell_type": "markdown",
   "metadata": {},
   "source": [
    "Number of unique article id's - how many article each user has opened"
   ]
  },
  {
   "cell_type": "code",
   "execution_count": 8,
   "metadata": {},
   "outputs": [
    {
     "data": {
      "text/plain": [
       "user_id\n",
       "3562     1\n",
       "3564     5\n",
       "3565     4\n",
       "3567     3\n",
       "3569    28\n",
       "3571     4\n",
       "3575     1\n",
       "3576     1\n",
       "3577     6\n",
       "3581     2\n",
       "3582     3\n",
       "3583     3\n",
       "3585     9\n",
       "3586     1\n",
       "3588     3\n",
       "3589     4\n",
       "3590     3\n",
       "3597     7\n",
       "3598     1\n",
       "3599     3\n",
       "3600     2\n",
       "3601     1\n",
       "3603     2\n",
       "3606     3\n",
       "3609     3\n",
       "3610     1\n",
       "3612     3\n",
       "3615    22\n",
       "3616     1\n",
       "3617     3\n",
       "3619     1\n",
       "3627     2\n",
       "3629    26\n",
       "3630     1\n",
       "3633     3\n",
       "3634     1\n",
       "3638    11\n",
       "3639     3\n",
       "3642     6\n",
       "3651     4\n",
       "3654     3\n",
       "3660     2\n",
       "3664     3\n",
       "3684     2\n",
       "3691     4\n",
       "3697     7\n",
       "3698     6\n",
       "3700     1\n",
       "3703     1\n",
       "3714     4\n",
       "Name: article_id, dtype: int64"
      ]
     },
     "execution_count": 8,
     "metadata": {},
     "output_type": "execute_result"
    }
   ],
   "source": [
    "activityData.groupby(['user_id']).article_id.nunique()"
   ]
  },
  {
   "cell_type": "markdown",
   "metadata": {},
   "source": [
    "How many days did people read on?"
   ]
  },
  {
   "cell_type": "code",
   "execution_count": 9,
   "metadata": {},
   "outputs": [
    {
     "name": "stdout",
     "output_type": "stream",
     "text": [
      "user_id\n",
      "3562     1\n",
      "3564     2\n",
      "3565     4\n",
      "3567     2\n",
      "3569    10\n",
      "3571     4\n",
      "3575     4\n",
      "3576     1\n",
      "3577     2\n",
      "3581     1\n",
      "3582     3\n",
      "3583     2\n",
      "3585     1\n",
      "3586     1\n",
      "3588     1\n",
      "3589     1\n",
      "3590     3\n",
      "3597     2\n",
      "3598     1\n",
      "3599     2\n",
      "3600     2\n",
      "3601     1\n",
      "3603     1\n",
      "3606     2\n",
      "3609     2\n",
      "3610     1\n",
      "3612     1\n",
      "3615     6\n",
      "3616     3\n",
      "3617     2\n",
      "3619     1\n",
      "3627     2\n",
      "3629    13\n",
      "3630     1\n",
      "3633     1\n",
      "3634     2\n",
      "3638     7\n",
      "3639     3\n",
      "3642     8\n",
      "3651     3\n",
      "3654     3\n",
      "3660     1\n",
      "3664     2\n",
      "3684     1\n",
      "3691     2\n",
      "3697     5\n",
      "3698     4\n",
      "3700     1\n",
      "3703     1\n",
      "3714     5\n",
      "Name: Date, dtype: int64\n"
     ]
    }
   ],
   "source": [
    "activityData['Date'] = pd.to_datetime(activityData['time'], utc=True)\n",
    "activityData['Date'] = activityData[\"Date\"].dt.normalize()\n",
    "dayCount = activityData.groupby([\"user_id\"]).Date.nunique()\n",
    "print(dayCount)"
   ]
  },
  {
   "cell_type": "markdown",
   "metadata": {},
   "source": [
    "How many people have found articles through the recommendations, and how many through other websites?"
   ]
  },
  {
   "cell_type": "code",
   "execution_count": 11,
   "metadata": {},
   "outputs": [
    {
     "name": "stdout",
     "output_type": "stream",
     "text": [
      "     article_id  user_id  count\n",
      "0       1579737     3610     40\n",
      "1       1579737     3619    642\n",
      "2       1835128     3571    103\n",
      "3       1897321     3562     89\n",
      "4       1898467     3615      4\n",
      "..          ...      ...    ...\n",
      "219     1973908     3697     12\n",
      "220     1983005     3714      3\n",
      "221     1983006     3714     25\n",
      "222     1985253     3714     61\n",
      "223     1998736     3714    155\n",
      "\n",
      "[224 rows x 3 columns]\n"
     ]
    }
   ],
   "source": [
    "grouped = activityData.groupby([\"article_id\", \"user_id\"]).event.count().reset_index(name=\"count\")\n",
    "grouped = grouped.astype(int)\n",
    "print(grouped)\n",
    "grouped.to_csv('grouped')"
   ]
  },
  {
   "cell_type": "code",
   "execution_count": 13,
   "metadata": {},
   "outputs": [
    {
     "name": "stdout",
     "output_type": "stream",
     "text": [
      "         user_id  count  rss_feed_id  uploader_id\n",
      "1579737     3610     40          NaN          NaN\n",
      "1579737     3619    642          NaN          NaN\n",
      "1835128     3571    103          NaN          NaN\n",
      "1897321     3562     89          NaN          NaN\n",
      "1898467     3615      4          NaN          NaN\n",
      "...          ...    ...          ...          ...\n",
      "1973908     3697     12          0.0          0.0\n",
      "1983005     3714      3          0.0          0.0\n",
      "1983006     3714     25          0.0          0.0\n",
      "1985253     3714     61          0.0          0.0\n",
      "1998736     3714    155          0.0          0.0\n",
      "\n",
      "[224 rows x 4 columns]\n"
     ]
    }
   ],
   "source": [
    "#takes a csv file with fetched withthe following query: SELECT id, rss_feed_id FROM article \n",
    "#WHERE rss_feed_id IS NULL;\n",
    "articlesWithoutRss = pd.read_csv('rss-feed, new.csv')\n",
    "articlesWithoutRss['rss_feed_id'] = articlesWithoutRss['rss_feed_id'].fillna(0)\n",
    "articlesWithoutRss['uploader_id'] = articlesWithoutRss['uploader_id'].fillna(0)\n",
    "joined = grouped.set_index('article_id').join(articlesWithoutRss.set_index('id'), how='left')\n",
    "joined.to_csv('updated-rss-feed 28')\n",
    "print(joined)"
   ]
  },
  {
   "cell_type": "markdown",
   "metadata": {},
   "source": [
    "This data is further procesed in \"Anonymized_rss_feed_found_articles.xlsx\""
   ]
  },
  {
   "cell_type": "markdown",
   "metadata": {},
   "source": [
    "After the experiment: 14 people has used the extension (per August 24th 2022)"
   ]
  },
  {
   "cell_type": "code",
   "execution_count": 3,
   "metadata": {},
   "outputs": [
    {
     "name": "stdout",
     "output_type": "stream",
     "text": [
      "        id  user_id  article_id           start_time  duration  \\\n",
      "0    82383     3564     1931345  2022-05-10 01:47:44     36000   \n",
      "1    82384     3564     1931346  2022-05-10 01:51:07    170000   \n",
      "2    82385     3564     1931346  2022-05-10 01:54:23      3000   \n",
      "3    88920     3564     2018507  2022-07-15 19:20:18     46000   \n",
      "4    89500     3564     2028107  2022-08-04 20:27:16    323000   \n",
      "..     ...      ...         ...                  ...       ...   \n",
      "153  89468     3698     2020555  2022-07-28 11:17:44    120000   \n",
      "154  82331     3567     1930152  2022-05-09 08:04:05    120000   \n",
      "155  82333     3567     1930152  2022-05-09 08:09:51    127000   \n",
      "156  82506     3567     1933637  2022-05-11 15:01:00     21000   \n",
      "157  83626     3567     1947831  2022-05-21 20:04:56    124000   \n",
      "\n",
      "        last_action_time  is_active  \n",
      "0    2022-05-10 01:48:20          0  \n",
      "1    2022-05-10 01:53:57          0  \n",
      "2    2022-05-10 01:54:26          0  \n",
      "3    2022-07-15 19:21:04          0  \n",
      "4    2022-08-04 20:32:39          0  \n",
      "..                   ...        ...  \n",
      "153  2022-07-28 11:19:44          0  \n",
      "154  2022-05-09 08:06:05          0  \n",
      "155  2022-05-09 08:11:58          0  \n",
      "156  2022-05-11 15:01:21          0  \n",
      "157  2022-05-21 20:07:00          0  \n",
      "\n",
      "[158 rows x 7 columns]\n"
     ]
    }
   ],
   "source": [
    "import pandas as pd\n",
    "\n",
    "afterExperiment = pd.read_csv('reading-session-after-experiment.csv')\n",
    "print(afterExperiment)"
   ]
  },
  {
   "cell_type": "markdown",
   "metadata": {},
   "source": [
    "On how many days have participants used the extension after the experiment until August 24th 2022?"
   ]
  },
  {
   "cell_type": "code",
   "execution_count": 5,
   "metadata": {},
   "outputs": [
    {
     "name": "stdout",
     "output_type": "stream",
     "text": [
      "user_id\n",
      "3564    4\n",
      "3565    1\n",
      "3567    3\n",
      "3569    7\n",
      "3571    1\n",
      "3589    2\n",
      "3599    1\n",
      "3601    1\n",
      "3603    1\n",
      "3610    1\n",
      "3617    1\n",
      "3627    2\n",
      "3629    4\n",
      "3684    1\n",
      "3698    7\n",
      "Name: Date, dtype: int64\n"
     ]
    }
   ],
   "source": [
    "afterExperiment['Date'] = pd.to_datetime(afterExperiment['start_time'], utc=True)\n",
    "afterExperiment['Date'] = afterExperiment[\"Date\"].dt.normalize()\n",
    "dayCount = afterExperiment.groupby([\"user_id\"]).Date.nunique()\n",
    "print(dayCount)\n",
    "dayCount.to_csv('after-experiment day count')\n"
   ]
  },
  {
   "cell_type": "markdown",
   "metadata": {},
   "source": [
    "Reading session data from pre-existing users"
   ]
  },
  {
   "cell_type": "code",
   "execution_count": 6,
   "metadata": {},
   "outputs": [
    {
     "name": "stdout",
     "output_type": "stream",
     "text": [
      "        id  user_id  article_id           start_time  duration  \\\n",
      "0    79556     3524     1903233  2022-04-20 10:20:20     18000   \n",
      "1    79557     3524     1902146  2022-04-20 10:21:50    762000   \n",
      "2    79561     3524     1902146  2022-04-20 10:39:04    120000   \n",
      "3    79562     3524     1902146  2022-04-20 10:41:37    120000   \n",
      "4    80153     3524     1902146  2022-04-21 11:45:57    120000   \n",
      "..     ...      ...         ...                  ...       ...   \n",
      "115  83909     2705     1952691  2022-05-25 11:23:09    131000   \n",
      "116  83910     2705     1952691  2022-05-25 11:26:00      8000   \n",
      "117  84404     2705     1963796  2022-06-03 07:37:16     53000   \n",
      "118  84411     2705     1963797  2022-06-03 08:10:12    159000   \n",
      "119  84412     2705     1963797  2022-06-03 08:12:53    120000   \n",
      "\n",
      "        last_action_time  is_active  \n",
      "0    2022-04-20 10:20:38          0  \n",
      "1    2022-04-20 10:34:32          0  \n",
      "2    2022-04-20 10:41:04          0  \n",
      "3    2022-04-20 10:43:37          0  \n",
      "4    2022-04-21 11:47:57          0  \n",
      "..                   ...        ...  \n",
      "115  2022-05-25 11:25:20          0  \n",
      "116  2022-05-25 11:26:08          0  \n",
      "117  2022-06-03 07:38:09          0  \n",
      "118  2022-06-03 08:12:51          0  \n",
      "119  2022-06-03 08:14:53          0  \n",
      "\n",
      "[120 rows x 7 columns]\n"
     ]
    }
   ],
   "source": [
    "import pandas as pd\n",
    "\n",
    "preExistActivity = pd.read_csv('pre-existing reading session data.csv')\n",
    "print(preExistActivity)"
   ]
  },
  {
   "cell_type": "code",
   "execution_count": 7,
   "metadata": {},
   "outputs": [
    {
     "name": "stdout",
     "output_type": "stream",
     "text": [
      "              id  article_id  duration  is_active\n",
      "user_id                                          \n",
      "2705      504265    11740325    553000          0\n",
      "3524     4077358    93529089   9660000          0\n",
      "3526     2534061    58596513   7828000          0\n",
      "3572     2693974    62179727   3737000          0\n"
     ]
    }
   ],
   "source": [
    "summed = preExistActivity.groupby(['user_id']).sum()\n",
    "print(summed)\n"
   ]
  },
  {
   "cell_type": "code",
   "execution_count": 8,
   "metadata": {},
   "outputs": [
    {
     "name": "stdout",
     "output_type": "stream",
     "text": [
      "user_id\n",
      "2705    3\n",
      "3524    8\n",
      "3526    6\n",
      "3572    4\n",
      "Name: Date, dtype: int64\n"
     ]
    }
   ],
   "source": [
    "preExistActivity['Date'] = pd.to_datetime(preExistActivity['start_time'], utc=True)\n",
    "preExistActivity['Date'] = preExistActivity[\"Date\"].dt.normalize()\n",
    "days = preExistActivity.groupby([\"user_id\"]).Date.nunique()\n",
    "print(days)"
   ]
  }
 ],
 "metadata": {
  "interpreter": {
   "hash": "aee8b7b246df8f9039afb4144a1f6fd8d2ca17a180786b69acc140d282b71a49"
  },
  "kernelspec": {
   "display_name": "Python 3.9.7 64-bit",
   "language": "python",
   "name": "python3"
  },
  "language_info": {
   "codemirror_mode": {
    "name": "ipython",
    "version": 3
   },
   "file_extension": ".py",
   "mimetype": "text/x-python",
   "name": "python",
   "nbconvert_exporter": "python",
   "pygments_lexer": "ipython3",
   "version": "3.9.7"
  },
  "orig_nbformat": 4
 },
 "nbformat": 4,
 "nbformat_minor": 2
}
