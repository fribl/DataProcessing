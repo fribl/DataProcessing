{
 "cells": [
  {
   "cell_type": "markdown",
   "metadata": {},
   "source": [
    "## Participant data from 2 week experiment"
   ]
  },
  {
   "cell_type": "code",
   "execution_count": null,
   "metadata": {},
   "outputs": [],
   "source": [
    "import pandas as pd\n",
    "#read_csv takes a csv file with user activity data for the two weeks\n",
    "activityData = pd.read_csv('file.csv')\n",
    "print(activityData)"
   ]
  },
  {
   "cell_type": "markdown",
   "metadata": {},
   "source": [
    "Number of unique article id's - how many article each user has opened"
   ]
  },
  {
   "cell_type": "code",
   "execution_count": null,
   "metadata": {},
   "outputs": [],
   "source": [
    "activityData.groupby(['user_id']).article_id.nunique()"
   ]
  },
  {
   "cell_type": "markdown",
   "metadata": {},
   "source": [
    "On how many days did participants read?"
   ]
  },
  {
   "cell_type": "code",
   "execution_count": null,
   "metadata": {},
   "outputs": [],
   "source": [
    "activityData['Date'] = pd.to_datetime(activityData['time'], utc=True)\n",
    "activityData['Date'] = activityData[\"Date\"].dt.normalize()\n",
    "dayCount = activityData.groupby([\"user_id\"]).Date.nunique()\n",
    "print(dayCount)"
   ]
  },
  {
   "cell_type": "markdown",
   "metadata": {},
   "source": [
    "How many participants have found articles through the recommendations, and how many through other websites?"
   ]
  },
  {
   "cell_type": "code",
   "execution_count": null,
   "metadata": {},
   "outputs": [],
   "source": [
    "#Groups data by article id and user id\n",
    "grouped = activityData.groupby([\"article_id\", \"user_id\"]).event.count().reset_index(name=\"count\")\n",
    "grouped = grouped.astype(int)\n",
    "print(grouped)"
   ]
  },
  {
   "cell_type": "code",
   "execution_count": null,
   "metadata": {},
   "outputs": [],
   "source": [
    "#takes a csv file with fetched withthe following query: SELECT id, rss_feed_id FROM article \n",
    "#WHERE rss_feed_id IS NULL; \n",
    "articlesWithoutRss = pd.read_csv('file.csv')\n",
    "articlesWithoutRss['rss_feed_id'] = articlesWithoutRss['rss_feed_id'].fillna(0)\n",
    "joined = grouped.set_index('article_id').join(articlesWithoutRss.set_index('id'), how='left')\n",
    "joined.to_csv('joined-rss-feed')\n",
    "print(joined)"
   ]
  },
  {
   "cell_type": "markdown",
   "metadata": {},
   "source": [
    "This data is further processed in \"Anonymized_rss_feed_found_articles.xlsx\"."
   ]
  },
  {
   "cell_type": "markdown",
   "metadata": {},
   "source": [
    "## Reading session data from pre-existing participants\n",
    "Reading time:"
   ]
  },
  {
   "cell_type": "code",
   "execution_count": null,
   "metadata": {},
   "outputs": [],
   "source": [
    "import pandas as pd\n",
    "\n",
    "preExistActivity = pd.read_csv('pre-existing reading session data.csv')\n",
    "summed = preExistActivity.groupby(['user_id']).sum()\n",
    "print(summed)\n"
   ]
  },
  {
   "cell_type": "markdown",
   "metadata": {},
   "source": [
    "Number of days they have read with the extension:"
   ]
  },
  {
   "cell_type": "code",
   "execution_count": null,
   "metadata": {},
   "outputs": [],
   "source": [
    "preExistActivity['Date'] = pd.to_datetime(preExistActivity['start_time'], utc=True)\n",
    "preExistActivity['Date'] = preExistActivity[\"Date\"].dt.normalize()\n",
    "days = preExistActivity.groupby([\"user_id\"]).Date.nunique()\n",
    "print(days)"
   ]
  },
  {
   "cell_type": "markdown",
   "metadata": {},
   "source": [
    "## After the experiment: 14 participants has used the extension (per August 24th 2022)\n",
    "Reading time after the experiment:"
   ]
  },
  {
   "cell_type": "code",
   "execution_count": null,
   "metadata": {},
   "outputs": [],
   "source": [
    "preExistActivity = pd.read_csv('pre-existing reading session data.csv')\n",
    "summed = preExistActivity.groupby(['user_id']).sum()\n",
    "print(summed)"
   ]
  },
  {
   "cell_type": "markdown",
   "metadata": {},
   "source": [
    "Number of days that participants have read with the extension after the experiment (until August 24th 2022)?"
   ]
  },
  {
   "cell_type": "code",
   "execution_count": null,
   "metadata": {},
   "outputs": [],
   "source": [
    "#takes csv file with reading session data\n",
    "afterExperiment = pd.read_csv('file.csv')\n",
    "afterExperiment['Date'] = pd.to_datetime(afterExperiment['start_time'], utc=True)\n",
    "afterExperiment['Date'] = afterExperiment[\"Date\"].dt.normalize()\n",
    "dayCount = afterExperiment.groupby([\"user_id\"]).Date.nunique()\n",
    "print(dayCount)\n",
    "dayCount.to_csv('after-experiment day count')"
   ]
  }
 ],
 "metadata": {
  "kernelspec": {
   "display_name": "Python 3.9.7 64-bit",
   "language": "python",
   "name": "python3"
  },
  "language_info": {
   "name": "python",
   "version": "3.9.7"
  },
  "orig_nbformat": 4,
  "vscode": {
   "interpreter": {
    "hash": "aee8b7b246df8f9039afb4144a1f6fd8d2ca17a180786b69acc140d282b71a49"
   }
  }
 },
 "nbformat": 4,
 "nbformat_minor": 2
}
