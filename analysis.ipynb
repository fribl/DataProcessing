{
 "cells": [
  {
   "cell_type": "code",
   "execution_count": null,
   "metadata": {},
   "outputs": [],
   "source": [
    "import pandas as pd\n",
    "#read_csv takes a csv file with user activity data for the two weeks\n",
    "activityData = pd.read_csv('UAD 23-08-22 2.csv')\n",
    "print(activityData)"
   ]
  },
  {
   "cell_type": "markdown",
   "metadata": {},
   "source": [
    "Number of unique article id's - how many article each user has opened"
   ]
  },
  {
   "cell_type": "code",
   "execution_count": null,
   "metadata": {},
   "outputs": [],
   "source": [
    "activityData.groupby(['user_id']).article_id.nunique()"
   ]
  },
  {
   "cell_type": "markdown",
   "metadata": {},
   "source": [
    "How many days did people read on?"
   ]
  },
  {
   "cell_type": "code",
   "execution_count": null,
   "metadata": {},
   "outputs": [],
   "source": [
    "activityData['Date'] = pd.to_datetime(activityData['time'], utc=True)\n",
    "activityData['Date'] = activityData[\"Date\"].dt.normalize()\n",
    "dayCount = activityData.groupby([\"user_id\"]).Date.nunique()\n",
    "print(dayCount)"
   ]
  },
  {
   "cell_type": "markdown",
   "metadata": {},
   "source": [
    "In how many distinct articles did people translate words?"
   ]
  },
  {
   "cell_type": "code",
   "execution_count": null,
   "metadata": {},
   "outputs": [],
   "source": [
    "translations = activityData[activityData['event'].str.contains(\"TRANSLATE TEXT\")]\n",
    "translationsCount = translations.groupby(['user_id']).article_id.nunique()\n",
    "print(translationsCount)"
   ]
  },
  {
   "cell_type": "markdown",
   "metadata": {},
   "source": [
    "How many people have found articles through the recommendations, and how many through other websites?"
   ]
  },
  {
   "cell_type": "code",
   "execution_count": null,
   "metadata": {},
   "outputs": [],
   "source": [
    "#Groups data by article id and user id\n",
    "grouped = activityData.groupby([\"article_id\", \"user_id\"]).event.count().reset_index(name=\"count\")\n",
    "grouped = grouped.astype(int)\n",
    "print(grouped)"
   ]
  },
  {
   "cell_type": "code",
   "execution_count": null,
   "metadata": {},
   "outputs": [],
   "source": [
    "#takes a csv file with fetched withthe following query: SELECT id, rss_feed_id FROM article \n",
    "#WHERE rss_feed_id IS NULL; \n",
    "articlesWithoutRss = pd.read_csv('rss-feed, new.csv')\n",
    "articlesWithoutRss['rss_feed_id'] = articlesWithoutRss['rss_feed_id'].fillna(0)\n",
    "articlesWithoutRss['uploader_id'] = articlesWithoutRss['uploader_id'].fillna(0)\n",
    "joined = grouped.set_index('article_id').join(articlesWithoutRss.set_index('id'), how='left')\n",
    "joined.to_csv('updated-rss-feed3')\n",
    "print(joined)"
   ]
  },
  {
   "cell_type": "markdown",
   "metadata": {},
   "source": [
    "After the experiment: 14 people has used the extension (pr. August 24th 2022)\n",
    "On how many days have participants used the extension after the experiment until August 24th 2022?"
   ]
  },
  {
   "cell_type": "code",
   "execution_count": null,
   "metadata": {},
   "outputs": [],
   "source": [
    "#takes csv file with reading session data\n",
    "afterExperiment = pd.read_csv('reading-session-after-experiment.csv')\n",
    "afterExperiment['Date'] = pd.to_datetime(afterExperiment['start_time'], utc=True)\n",
    "afterExperiment['Date'] = afterExperiment[\"Date\"].dt.normalize()\n",
    "dayCount = afterExperiment.groupby([\"user_id\"]).Date.nunique()\n",
    "print(dayCount)\n",
    "dayCount.to_csv('after-experiment day count')"
   ]
  }
 ],
 "metadata": {
  "language_info": {
   "name": "python"
  },
  "orig_nbformat": 4
 },
 "nbformat": 4,
 "nbformat_minor": 2
}
